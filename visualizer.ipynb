{
  "cells": [
    {
      "cell_type": "markdown",
      "metadata": {
        "id": "L6a-YUzXtKMi"
      },
      "source": [
        "#Package Setup"
      ]
    },
    {
      "cell_type": "markdown",
      "metadata": {
        "id": "vU3vDD5NnHbe"
      },
      "source": [
        "## Installations"
      ]
    },
    {
      "cell_type": "code",
      "execution_count": 6,
      "metadata": {
        "id": "ld6DUOwPnOx4"
      },
      "outputs": [
        {
          "name": "stdout",
          "output_type": "stream",
          "text": [
            "Requirement already satisfied: umap-learn in d:\\anaconda\\envs\\ml\\lib\\site-packages (0.5.7)\n",
            "Requirement already satisfied: numpy>=1.17 in d:\\anaconda\\envs\\ml\\lib\\site-packages (from umap-learn) (1.26.4)\n",
            "Requirement already satisfied: scipy>=1.3.1 in d:\\anaconda\\envs\\ml\\lib\\site-packages (from umap-learn) (1.13.1)\n",
            "Requirement already satisfied: scikit-learn>=0.22 in d:\\anaconda\\envs\\ml\\lib\\site-packages (from umap-learn) (1.5.2)\n",
            "Requirement already satisfied: numba>=0.51.2 in d:\\anaconda\\envs\\ml\\lib\\site-packages (from umap-learn) (0.60.0)\n",
            "Requirement already satisfied: pynndescent>=0.5 in d:\\anaconda\\envs\\ml\\lib\\site-packages (from umap-learn) (0.5.13)\n",
            "Requirement already satisfied: tqdm in d:\\anaconda\\envs\\ml\\lib\\site-packages (from umap-learn) (4.67.0)\n",
            "Requirement already satisfied: llvmlite<0.44,>=0.43.0dev0 in d:\\anaconda\\envs\\ml\\lib\\site-packages (from numba>=0.51.2->umap-learn) (0.43.0)\n",
            "Requirement already satisfied: joblib>=0.11 in d:\\anaconda\\envs\\ml\\lib\\site-packages (from pynndescent>=0.5->umap-learn) (1.4.2)\n",
            "Requirement already satisfied: threadpoolctl>=3.1.0 in d:\\anaconda\\envs\\ml\\lib\\site-packages (from scikit-learn>=0.22->umap-learn) (3.5.0)\n",
            "Requirement already satisfied: colorama in d:\\anaconda\\envs\\ml\\lib\\site-packages (from tqdm->umap-learn) (0.4.6)\n",
            "Requirement already satisfied: sentence-transformers in d:\\anaconda\\envs\\ml\\lib\\site-packages (2.5.1)\n",
            "Requirement already satisfied: transformers<5.0.0,>=4.32.0 in d:\\anaconda\\envs\\ml\\lib\\site-packages (from sentence-transformers) (4.48.3)\n",
            "Requirement already satisfied: tqdm in d:\\anaconda\\envs\\ml\\lib\\site-packages (from sentence-transformers) (4.67.0)\n",
            "Requirement already satisfied: torch>=1.11.0 in d:\\anaconda\\envs\\ml\\lib\\site-packages (from sentence-transformers) (2.6.0)\n",
            "Requirement already satisfied: numpy in d:\\anaconda\\envs\\ml\\lib\\site-packages (from sentence-transformers) (1.26.4)\n",
            "Requirement already satisfied: scikit-learn in d:\\anaconda\\envs\\ml\\lib\\site-packages (from sentence-transformers) (1.5.2)\n",
            "Requirement already satisfied: scipy in d:\\anaconda\\envs\\ml\\lib\\site-packages (from sentence-transformers) (1.13.1)\n",
            "Requirement already satisfied: huggingface-hub>=0.15.1 in d:\\anaconda\\envs\\ml\\lib\\site-packages (from sentence-transformers) (0.28.1)\n",
            "Requirement already satisfied: Pillow in d:\\anaconda\\envs\\ml\\lib\\site-packages (from sentence-transformers) (11.1.0)\n",
            "Requirement already satisfied: filelock in d:\\anaconda\\envs\\ml\\lib\\site-packages (from huggingface-hub>=0.15.1->sentence-transformers) (3.17.0)\n",
            "Requirement already satisfied: fsspec>=2023.5.0 in d:\\anaconda\\envs\\ml\\lib\\site-packages (from huggingface-hub>=0.15.1->sentence-transformers) (2025.2.0)\n",
            "Requirement already satisfied: packaging>=20.9 in d:\\anaconda\\envs\\ml\\lib\\site-packages (from huggingface-hub>=0.15.1->sentence-transformers) (24.1)\n",
            "Requirement already satisfied: pyyaml>=5.1 in d:\\anaconda\\envs\\ml\\lib\\site-packages (from huggingface-hub>=0.15.1->sentence-transformers) (6.0.2)\n",
            "Requirement already satisfied: requests in d:\\anaconda\\envs\\ml\\lib\\site-packages (from huggingface-hub>=0.15.1->sentence-transformers) (2.32.3)\n",
            "Requirement already satisfied: typing-extensions>=3.7.4.3 in d:\\anaconda\\envs\\ml\\lib\\site-packages (from huggingface-hub>=0.15.1->sentence-transformers) (4.11.0)\n",
            "Requirement already satisfied: networkx in d:\\anaconda\\envs\\ml\\lib\\site-packages (from torch>=1.11.0->sentence-transformers) (3.2.1)\n",
            "Requirement already satisfied: jinja2 in d:\\anaconda\\envs\\ml\\lib\\site-packages (from torch>=1.11.0->sentence-transformers) (3.1.4)\n",
            "Requirement already satisfied: sympy==1.13.1 in d:\\anaconda\\envs\\ml\\lib\\site-packages (from torch>=1.11.0->sentence-transformers) (1.13.1)\n",
            "Requirement already satisfied: mpmath<1.4,>=1.1.0 in d:\\anaconda\\envs\\ml\\lib\\site-packages (from sympy==1.13.1->torch>=1.11.0->sentence-transformers) (1.3.0)\n",
            "Requirement already satisfied: colorama in d:\\anaconda\\envs\\ml\\lib\\site-packages (from tqdm->sentence-transformers) (0.4.6)\n",
            "Requirement already satisfied: regex!=2019.12.17 in d:\\anaconda\\envs\\ml\\lib\\site-packages (from transformers<5.0.0,>=4.32.0->sentence-transformers) (2024.11.6)\n",
            "Requirement already satisfied: tokenizers<0.22,>=0.21 in d:\\anaconda\\envs\\ml\\lib\\site-packages (from transformers<5.0.0,>=4.32.0->sentence-transformers) (0.21.0)\n",
            "Requirement already satisfied: safetensors>=0.4.1 in d:\\anaconda\\envs\\ml\\lib\\site-packages (from transformers<5.0.0,>=4.32.0->sentence-transformers) (0.5.2)\n",
            "Requirement already satisfied: joblib>=1.2.0 in d:\\anaconda\\envs\\ml\\lib\\site-packages (from scikit-learn->sentence-transformers) (1.4.2)\n",
            "Requirement already satisfied: threadpoolctl>=3.1.0 in d:\\anaconda\\envs\\ml\\lib\\site-packages (from scikit-learn->sentence-transformers) (3.5.0)\n",
            "Requirement already satisfied: MarkupSafe>=2.0 in d:\\anaconda\\envs\\ml\\lib\\site-packages (from jinja2->torch>=1.11.0->sentence-transformers) (2.1.3)\n",
            "Requirement already satisfied: charset-normalizer<4,>=2 in d:\\anaconda\\envs\\ml\\lib\\site-packages (from requests->huggingface-hub>=0.15.1->sentence-transformers) (3.3.2)\n",
            "Requirement already satisfied: idna<4,>=2.5 in d:\\anaconda\\envs\\ml\\lib\\site-packages (from requests->huggingface-hub>=0.15.1->sentence-transformers) (3.7)\n",
            "Requirement already satisfied: urllib3<3,>=1.21.1 in d:\\anaconda\\envs\\ml\\lib\\site-packages (from requests->huggingface-hub>=0.15.1->sentence-transformers) (2.2.3)\n",
            "Requirement already satisfied: certifi>=2017.4.17 in d:\\anaconda\\envs\\ml\\lib\\site-packages (from requests->huggingface-hub>=0.15.1->sentence-transformers) (2024.8.30)\n",
            "Requirement already satisfied: pyvis in d:\\anaconda\\envs\\ml\\lib\\site-packages (0.3.2)\n",
            "Requirement already satisfied: ipython>=5.3.0 in d:\\anaconda\\envs\\ml\\lib\\site-packages (from pyvis) (8.15.0)\n",
            "Requirement already satisfied: jinja2>=2.9.6 in d:\\anaconda\\envs\\ml\\lib\\site-packages (from pyvis) (3.1.4)\n",
            "Requirement already satisfied: jsonpickle>=1.4.1 in d:\\anaconda\\envs\\ml\\lib\\site-packages (from pyvis) (4.0.1)\n",
            "Requirement already satisfied: networkx>=1.11 in d:\\anaconda\\envs\\ml\\lib\\site-packages (from pyvis) (3.2.1)\n",
            "Requirement already satisfied: backcall in d:\\anaconda\\envs\\ml\\lib\\site-packages (from ipython>=5.3.0->pyvis) (0.2.0)\n",
            "Requirement already satisfied: decorator in d:\\anaconda\\envs\\ml\\lib\\site-packages (from ipython>=5.3.0->pyvis) (5.1.1)\n",
            "Requirement already satisfied: jedi>=0.16 in d:\\anaconda\\envs\\ml\\lib\\site-packages (from ipython>=5.3.0->pyvis) (0.19.1)\n",
            "Requirement already satisfied: matplotlib-inline in d:\\anaconda\\envs\\ml\\lib\\site-packages (from ipython>=5.3.0->pyvis) (0.1.6)\n",
            "Requirement already satisfied: pickleshare in d:\\anaconda\\envs\\ml\\lib\\site-packages (from ipython>=5.3.0->pyvis) (0.7.5)\n",
            "Requirement already satisfied: prompt-toolkit!=3.0.37,<3.1.0,>=3.0.30 in d:\\anaconda\\envs\\ml\\lib\\site-packages (from ipython>=5.3.0->pyvis) (3.0.43)\n",
            "Requirement already satisfied: pygments>=2.4.0 in d:\\anaconda\\envs\\ml\\lib\\site-packages (from ipython>=5.3.0->pyvis) (2.15.1)\n",
            "Requirement already satisfied: stack-data in d:\\anaconda\\envs\\ml\\lib\\site-packages (from ipython>=5.3.0->pyvis) (0.2.0)\n",
            "Requirement already satisfied: traitlets>=5 in d:\\anaconda\\envs\\ml\\lib\\site-packages (from ipython>=5.3.0->pyvis) (5.14.3)\n",
            "Requirement already satisfied: typing-extensions in d:\\anaconda\\envs\\ml\\lib\\site-packages (from ipython>=5.3.0->pyvis) (4.11.0)\n",
            "Requirement already satisfied: exceptiongroup in d:\\anaconda\\envs\\ml\\lib\\site-packages (from ipython>=5.3.0->pyvis) (1.2.0)\n",
            "Requirement already satisfied: colorama in d:\\anaconda\\envs\\ml\\lib\\site-packages (from ipython>=5.3.0->pyvis) (0.4.6)\n",
            "Requirement already satisfied: MarkupSafe>=2.0 in d:\\anaconda\\envs\\ml\\lib\\site-packages (from jinja2>=2.9.6->pyvis) (2.1.3)\n",
            "Requirement already satisfied: parso<0.9.0,>=0.8.3 in d:\\anaconda\\envs\\ml\\lib\\site-packages (from jedi>=0.16->ipython>=5.3.0->pyvis) (0.8.3)\n",
            "Requirement already satisfied: wcwidth in d:\\anaconda\\envs\\ml\\lib\\site-packages (from prompt-toolkit!=3.0.37,<3.1.0,>=3.0.30->ipython>=5.3.0->pyvis) (0.2.5)\n",
            "Requirement already satisfied: executing in d:\\anaconda\\envs\\ml\\lib\\site-packages (from stack-data->ipython>=5.3.0->pyvis) (0.8.3)\n",
            "Requirement already satisfied: asttokens in d:\\anaconda\\envs\\ml\\lib\\site-packages (from stack-data->ipython>=5.3.0->pyvis) (2.0.5)\n",
            "Requirement already satisfied: pure-eval in d:\\anaconda\\envs\\ml\\lib\\site-packages (from stack-data->ipython>=5.3.0->pyvis) (0.2.2)\n",
            "Requirement already satisfied: six in d:\\anaconda\\envs\\ml\\lib\\site-packages (from asttokens->stack-data->ipython>=5.3.0->pyvis) (1.16.0)\n",
            "Collecting branca\n",
            "  Downloading branca-0.8.1-py3-none-any.whl.metadata (1.5 kB)\n",
            "Requirement already satisfied: jinja2>=3 in d:\\anaconda\\envs\\ml\\lib\\site-packages (from branca) (3.1.4)\n",
            "Requirement already satisfied: MarkupSafe>=2.0 in d:\\anaconda\\envs\\ml\\lib\\site-packages (from jinja2>=3->branca) (2.1.3)\n",
            "Downloading branca-0.8.1-py3-none-any.whl (26 kB)\n",
            "Installing collected packages: branca\n",
            "Successfully installed branca-0.8.1\n"
          ]
        }
      ],
      "source": [
        "!pip install umap-learn\n",
        "!pip install sentence-transformers\n",
        "!pip install pyvis\n",
        "!pip install branca"
      ]
    },
    {
      "cell_type": "markdown",
      "metadata": {
        "id": "GWU8thTgtDwK"
      },
      "source": [
        "## Imports"
      ]
    },
    {
      "cell_type": "code",
      "execution_count": 9,
      "metadata": {
        "id": "iqovyEuCkmEk"
      },
      "outputs": [],
      "source": [
        "import csv\n",
        "import umap\n",
        "from scipy import spatial\n",
        "from sklearn.preprocessing import StandardScaler\n",
        "from sentence_transformers import SentenceTransformer\n",
        "import matplotlib.pyplot as plt\n",
        "from collections import defaultdict\n",
        "import pyvis\n",
        "from pyvis.network import Network\n",
        "import numpy as np\n",
        "import seaborn as sns\n",
        "import branca.colormap as cm\n",
        "import branca\n",
        "import pandas as pd\n",
        "import re\n",
        "from textwrap import wrap\n",
        "import json\n",
        "import numpy as np\n",
        "from scipy.stats import spearmanr\n",
        "import numpy as np\n",
        "from sklearn.metrics.pairwise import cosine_similarity\n",
        "\n",
        "project_path = './'"
      ]
    },
    {
      "cell_type": "markdown",
      "metadata": {
        "id": "B6j9HEUktPbU"
      },
      "source": [
        "# Visualization Creation Process"
      ]
    },
    {
      "cell_type": "markdown",
      "metadata": {
        "id": "5Fu_9ijYFeR8"
      },
      "source": [
        "## Create Embeddings from Raw Data"
      ]
    },
    {
      "cell_type": "code",
      "execution_count": 2,
      "metadata": {
        "id": "A20046f5kvzd"
      },
      "outputs": [],
      "source": [
        "# Create embeddings from interst data\n",
        "def generate_embedding(file_name='MCDA5511-classmates - 2025.csv', model='all-MiniLM-L6-v2'):\n",
        "\n",
        "    attendees_map = {}\n",
        "    with open(project_path + file_name, newline='') as csvfile:\n",
        "        attendees = csv.reader(csvfile, delimiter=',', quotechar='\"')\n",
        "        next(attendees)  # Skip the header row\n",
        "        for row in attendees:\n",
        "            name, paragraph = row\n",
        "            attendees_map[paragraph] = name\n",
        "\n",
        "    # Generate sentence embeddings\n",
        "    model = SentenceTransformer('sentence-transformers/{}'.format(model))\n",
        "    paragraphs = list(attendees_map.keys())\n",
        "    embeddings = model.encode(paragraphs)\n",
        "\n",
        "    # Create a dictionary to store embeddings for each person\n",
        "    person_embeddings = {attendees_map[paragraph]: embedding for paragraph, embedding in zip(paragraphs, embeddings)}\n",
        "    return person_embeddings"
      ]
    },
    {
      "cell_type": "code",
      "execution_count": 5,
      "metadata": {},
      "outputs": [],
      "source": [
        "person_embeddings1 = generate_embedding(model='all-MiniLM-L6-v2')\n",
        "person_embeddings2 = generate_embedding(model='all-MiniLM-L12-v2')"
      ]
    },
    {
      "cell_type": "code",
      "execution_count": 62,
      "metadata": {},
      "outputs": [],
      "source": [
        "def compute_similarity_single_to_many(embedding, person_name='SicongFu'):\n",
        "\n",
        "    query_embedding = embedding[person_name].reshape(1, -1)\n",
        "    candidate_embeddings = np.array([v for k, v in embedding.items() if k != person_name])\n",
        "    \n",
        "    similarities = cosine_similarity(query_embedding, candidate_embeddings)\n",
        "    return similarities"
      ]
    },
    {
      "cell_type": "code",
      "execution_count": 54,
      "metadata": {},
      "outputs": [],
      "source": [
        "def compute_spearman_correlation(embeddings1, embeddings2):\n",
        "\n",
        "    similarities1 = compute_similarity_single_to_many(embeddings1)\n",
        "    similarities2 = compute_similarity_single_to_many(embeddings2)\n",
        "    ranking1 = np.argsort(similarities1[0]) + 1\n",
        "    ranking2 = np.argsort(similarities2[0]) + 1\n",
        "\n",
        "    rho, _ = spearmanr(ranking1, ranking2)\n",
        "    print(f\"Spearman’s 𝜌: {rho}\")\n",
        "    return rho"
      ]
    },
    {
      "cell_type": "code",
      "execution_count": 63,
      "metadata": {},
      "outputs": [
        {
          "name": "stdout",
          "output_type": "stream",
          "text": [
            "Spearman’s 𝜌: -0.03508771929824562\n"
          ]
        }
      ],
      "source": [
        "rho = compute_spearman_correlation(person_embeddings1, person_embeddings2)"
      ]
    },
    {
      "cell_type": "markdown",
      "metadata": {
        "id": "yhQYxCZ-Fkmp"
      },
      "source": [
        "## Reducing dimensionality of embedding data, scaling to coordinate domain/range\n"
      ]
    },
    {
      "cell_type": "code",
      "execution_count": 56,
      "metadata": {
        "id": "PLufwJPWkoWp"
      },
      "outputs": [
        {
          "name": "stderr",
          "output_type": "stream",
          "text": [
            "d:\\anaconda\\envs\\ml\\lib\\site-packages\\umap\\umap_.py:1952: UserWarning: n_jobs value 1 overridden to 1 by setting random_state. Use no seed for parallelism.\n",
            "  warn(\n"
          ]
        }
      ],
      "source": [
        "# Reducing dimensionality of embedding data, scaling to coordinate domain/range\n",
        "reducer = umap.UMAP(random_state=42) # set the seed to 42\n",
        "scaler = StandardScaler()\n",
        "scaled_data = scaler.fit_transform(list(person_embeddings1.values()))\n",
        "reduced_data = reducer.fit_transform(scaled_data)\n"
      ]
    },
    {
      "cell_type": "code",
      "execution_count": 58,
      "metadata": {},
      "outputs": [
        {
          "data": {
            "image/png": "[encoded data removed]",
            "text/plain": [
              "<Figure size 640x480 with 1 Axes>"
            ]
          },
          "metadata": {},
          "output_type": "display_data"
        }
      ],
      "source": [
        "# Creating lists of coordinates with accompanying labels\n",
        "x = [row[0] for row in reduced_data]\n",
        "y = [row[1] for row in reduced_data]\n",
        "label = list(person_embeddings1.keys())\n",
        "\n",
        "# Plotting and annotating data points\n",
        "plt.scatter(x,y)\n",
        "for i, name in enumerate(label):\n",
        "    plt.annotate(name, (x[i], y[i]), fontsize=\"8\")\n",
        "\n",
        "# Clean-up and Export\n",
        "plt.axis('off')\n",
        "plt.savefig(project_path+'visualization.png', dpi=800)"
      ]
    },
    {
      "cell_type": "code",
      "execution_count": 59,
      "metadata": {},
      "outputs": [
        {
          "name": "stderr",
          "output_type": "stream",
          "text": [
            "d:\\anaconda\\envs\\ml\\lib\\site-packages\\umap\\umap_.py:1952: UserWarning: n_jobs value 1 overridden to 1 by setting random_state. Use no seed for parallelism.\n",
            "  warn(\n"
          ]
        }
      ],
      "source": [
        "# Reducing dimensionality of embedding data, scaling to coordinate domain/range\n",
        "reducer = umap.UMAP(random_state=42) # set the seed to 42\n",
        "scaler = StandardScaler()\n",
        "scaled_data = scaler.fit_transform(list(person_embeddings2.values()))\n",
        "reduced_data = reducer.fit_transform(scaled_data)"
      ]
    },
    {
      "cell_type": "markdown",
      "metadata": {
        "id": "oD5e7ge2Fn3e"
      },
      "source": [
        "## Create Visualization Image"
      ]
    },
    {
      "cell_type": "code",
      "execution_count": 60,
      "metadata": {
        "id": "aFhtKXwvktLO"
      },
      "outputs": [
        {
          "data": {
            "image/png": "[encoded data removed]",
            "text/plain": [
              "<Figure size 640x480 with 1 Axes>"
            ]
          },
          "metadata": {},
          "output_type": "display_data"
        }
      ],
      "source": [
        "# Creating lists of coordinates with accompanying labels\n",
        "x = [row[0] for row in reduced_data]\n",
        "y = [row[1] for row in reduced_data]\n",
        "label = list(person_embeddings2.keys())\n",
        "\n",
        "# Plotting and annotating data points\n",
        "plt.scatter(x,y)\n",
        "for i, name in enumerate(label):\n",
        "    plt.annotate(name, (x[i], y[i]), fontsize=\"8\")\n",
        "\n",
        "# Clean-up and Export\n",
        "plt.axis('off')\n",
        "plt.savefig(project_path+'visualization.png', dpi=800)"
      ]
    },
    {
      "cell_type": "markdown",
      "metadata": {
        "id": "RDfz17paFvR3"
      },
      "source": [
        "## Find the  top N matches to a node"
      ]
    },
    {
      "cell_type": "markdown",
      "metadata": {
        "id": "-GMH_-ioGB-T"
      },
      "source": [
        "## Add Colour/Paragraph Information to Dataframe"
      ]
    },
    {
      "cell_type": "markdown",
      "metadata": {
        "id": "_hIev_UiGLei"
      },
      "source": [
        "## Build Interative Network Visualization (Simple)"
      ]
    },
    {
      "cell_type": "markdown",
      "metadata": {
        "id": "k25-lsF-GQMP"
      },
      "source": [
        "## Build Interative Network Visualization (Complex)\n"
      ]
    }
  ],
  "metadata": {
    "colab": {
      "collapsed_sections": [
        "vU3vDD5NnHbe",
        "B6j9HEUktPbU"
      ],
      "provenance": []
    },
    "kernelspec": {
      "display_name": "ml",
      "language": "python",
      "name": "python3"
    },
    "language_info": {
      "codemirror_mode": {
        "name": "ipython",
        "version": 3
      },
      "file_extension": ".py",
      "mimetype": "text/x-python",
      "name": "python",
      "nbconvert_exporter": "python",
      "pygments_lexer": "ipython3",
      "version": "3.9.20"
    }
  },
  "nbformat": 4,
  "nbformat_minor": 0
}
