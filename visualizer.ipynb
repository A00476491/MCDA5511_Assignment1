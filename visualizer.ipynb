{
  "cells": [
    {
      "cell_type": "markdown",
      "metadata": {
        "id": "L6a-YUzXtKMi"
      },
      "source": [
        "#Package Setup"
      ]
    },
    {
      "cell_type": "markdown",
      "metadata": {
        "id": "vU3vDD5NnHbe"
      },
      "source": [
        "## Installations"
      ]
    },
    {
      "cell_type": "code",
      "execution_count": 6,
      "metadata": {
        "id": "ld6DUOwPnOx4"
      },
      "outputs": [
        {
          "name": "stdout",
          "output_type": "stream",
          "text": [
            "Requirement already satisfied: umap-learn in d:\\anaconda\\envs\\ml\\lib\\site-packages (0.5.7)\n",
            "Requirement already satisfied: numpy>=1.17 in d:\\anaconda\\envs\\ml\\lib\\site-packages (from umap-learn) (1.26.4)\n",
            "Requirement already satisfied: scipy>=1.3.1 in d:\\anaconda\\envs\\ml\\lib\\site-packages (from umap-learn) (1.13.1)\n",
            "Requirement already satisfied: scikit-learn>=0.22 in d:\\anaconda\\envs\\ml\\lib\\site-packages (from umap-learn) (1.5.2)\n",
            "Requirement already satisfied: numba>=0.51.2 in d:\\anaconda\\envs\\ml\\lib\\site-packages (from umap-learn) (0.60.0)\n",
            "Requirement already satisfied: pynndescent>=0.5 in d:\\anaconda\\envs\\ml\\lib\\site-packages (from umap-learn) (0.5.13)\n",
            "Requirement already satisfied: tqdm in d:\\anaconda\\envs\\ml\\lib\\site-packages (from umap-learn) (4.67.0)\n",
            "Requirement already satisfied: llvmlite<0.44,>=0.43.0dev0 in d:\\anaconda\\envs\\ml\\lib\\site-packages (from numba>=0.51.2->umap-learn) (0.43.0)\n",
            "Requirement already satisfied: joblib>=0.11 in d:\\anaconda\\envs\\ml\\lib\\site-packages (from pynndescent>=0.5->umap-learn) (1.4.2)\n",
            "Requirement already satisfied: threadpoolctl>=3.1.0 in d:\\anaconda\\envs\\ml\\lib\\site-packages (from scikit-learn>=0.22->umap-learn) (3.5.0)\n",
            "Requirement already satisfied: colorama in d:\\anaconda\\envs\\ml\\lib\\site-packages (from tqdm->umap-learn) (0.4.6)\n",
            "Requirement already satisfied: sentence-transformers in d:\\anaconda\\envs\\ml\\lib\\site-packages (2.5.1)\n",
            "Requirement already satisfied: transformers<5.0.0,>=4.32.0 in d:\\anaconda\\envs\\ml\\lib\\site-packages (from sentence-transformers) (4.48.3)\n",
            "Requirement already satisfied: tqdm in d:\\anaconda\\envs\\ml\\lib\\site-packages (from sentence-transformers) (4.67.0)\n",
            "Requirement already satisfied: torch>=1.11.0 in d:\\anaconda\\envs\\ml\\lib\\site-packages (from sentence-transformers) (2.6.0)\n",
            "Requirement already satisfied: numpy in d:\\anaconda\\envs\\ml\\lib\\site-packages (from sentence-transformers) (1.26.4)\n",
            "Requirement already satisfied: scikit-learn in d:\\anaconda\\envs\\ml\\lib\\site-packages (from sentence-transformers) (1.5.2)\n",
            "Requirement already satisfied: scipy in d:\\anaconda\\envs\\ml\\lib\\site-packages (from sentence-transformers) (1.13.1)\n",
            "Requirement already satisfied: huggingface-hub>=0.15.1 in d:\\anaconda\\envs\\ml\\lib\\site-packages (from sentence-transformers) (0.28.1)\n",
            "Requirement already satisfied: Pillow in d:\\anaconda\\envs\\ml\\lib\\site-packages (from sentence-transformers) (11.1.0)\n",
            "Requirement already satisfied: filelock in d:\\anaconda\\envs\\ml\\lib\\site-packages (from huggingface-hub>=0.15.1->sentence-transformers) (3.17.0)\n",
            "Requirement already satisfied: fsspec>=2023.5.0 in d:\\anaconda\\envs\\ml\\lib\\site-packages (from huggingface-hub>=0.15.1->sentence-transformers) (2025.2.0)\n",
            "Requirement already satisfied: packaging>=20.9 in d:\\anaconda\\envs\\ml\\lib\\site-packages (from huggingface-hub>=0.15.1->sentence-transformers) (24.1)\n",
            "Requirement already satisfied: pyyaml>=5.1 in d:\\anaconda\\envs\\ml\\lib\\site-packages (from huggingface-hub>=0.15.1->sentence-transformers) (6.0.2)\n",
            "Requirement already satisfied: requests in d:\\anaconda\\envs\\ml\\lib\\site-packages (from huggingface-hub>=0.15.1->sentence-transformers) (2.32.3)\n",
            "Requirement already satisfied: typing-extensions>=3.7.4.3 in d:\\anaconda\\envs\\ml\\lib\\site-packages (from huggingface-hub>=0.15.1->sentence-transformers) (4.11.0)\n",
            "Requirement already satisfied: networkx in d:\\anaconda\\envs\\ml\\lib\\site-packages (from torch>=1.11.0->sentence-transformers) (3.2.1)\n",
            "Requirement already satisfied: jinja2 in d:\\anaconda\\envs\\ml\\lib\\site-packages (from torch>=1.11.0->sentence-transformers) (3.1.4)\n",
            "Requirement already satisfied: sympy==1.13.1 in d:\\anaconda\\envs\\ml\\lib\\site-packages (from torch>=1.11.0->sentence-transformers) (1.13.1)\n",
            "Requirement already satisfied: mpmath<1.4,>=1.1.0 in d:\\anaconda\\envs\\ml\\lib\\site-packages (from sympy==1.13.1->torch>=1.11.0->sentence-transformers) (1.3.0)\n",
            "Requirement already satisfied: colorama in d:\\anaconda\\envs\\ml\\lib\\site-packages (from tqdm->sentence-transformers) (0.4.6)\n",
            "Requirement already satisfied: regex!=2019.12.17 in d:\\anaconda\\envs\\ml\\lib\\site-packages (from transformers<5.0.0,>=4.32.0->sentence-transformers) (2024.11.6)\n",
            "Requirement already satisfied: tokenizers<0.22,>=0.21 in d:\\anaconda\\envs\\ml\\lib\\site-packages (from transformers<5.0.0,>=4.32.0->sentence-transformers) (0.21.0)\n",
            "Requirement already satisfied: safetensors>=0.4.1 in d:\\anaconda\\envs\\ml\\lib\\site-packages (from transformers<5.0.0,>=4.32.0->sentence-transformers) (0.5.2)\n",
            "Requirement already satisfied: joblib>=1.2.0 in d:\\anaconda\\envs\\ml\\lib\\site-packages (from scikit-learn->sentence-transformers) (1.4.2)\n",
            "Requirement already satisfied: threadpoolctl>=3.1.0 in d:\\anaconda\\envs\\ml\\lib\\site-packages (from scikit-learn->sentence-transformers) (3.5.0)\n",
            "Requirement already satisfied: MarkupSafe>=2.0 in d:\\anaconda\\envs\\ml\\lib\\site-packages (from jinja2->torch>=1.11.0->sentence-transformers) (2.1.3)\n",
            "Requirement already satisfied: charset-normalizer<4,>=2 in d:\\anaconda\\envs\\ml\\lib\\site-packages (from requests->huggingface-hub>=0.15.1->sentence-transformers) (3.3.2)\n",
            "Requirement already satisfied: idna<4,>=2.5 in d:\\anaconda\\envs\\ml\\lib\\site-packages (from requests->huggingface-hub>=0.15.1->sentence-transformers) (3.7)\n",
            "Requirement already satisfied: urllib3<3,>=1.21.1 in d:\\anaconda\\envs\\ml\\lib\\site-packages (from requests->huggingface-hub>=0.15.1->sentence-transformers) (2.2.3)\n",
            "Requirement already satisfied: certifi>=2017.4.17 in d:\\anaconda\\envs\\ml\\lib\\site-packages (from requests->huggingface-hub>=0.15.1->sentence-transformers) (2024.8.30)\n",
            "Requirement already satisfied: pyvis in d:\\anaconda\\envs\\ml\\lib\\site-packages (0.3.2)\n",
            "Requirement already satisfied: ipython>=5.3.0 in d:\\anaconda\\envs\\ml\\lib\\site-packages (from pyvis) (8.15.0)\n",
            "Requirement already satisfied: jinja2>=2.9.6 in d:\\anaconda\\envs\\ml\\lib\\site-packages (from pyvis) (3.1.4)\n",
            "Requirement already satisfied: jsonpickle>=1.4.1 in d:\\anaconda\\envs\\ml\\lib\\site-packages (from pyvis) (4.0.1)\n",
            "Requirement already satisfied: networkx>=1.11 in d:\\anaconda\\envs\\ml\\lib\\site-packages (from pyvis) (3.2.1)\n",
            "Requirement already satisfied: backcall in d:\\anaconda\\envs\\ml\\lib\\site-packages (from ipython>=5.3.0->pyvis) (0.2.0)\n",
            "Requirement already satisfied: decorator in d:\\anaconda\\envs\\ml\\lib\\site-packages (from ipython>=5.3.0->pyvis) (5.1.1)\n",
            "Requirement already satisfied: jedi>=0.16 in d:\\anaconda\\envs\\ml\\lib\\site-packages (from ipython>=5.3.0->pyvis) (0.19.1)\n",
            "Requirement already satisfied: matplotlib-inline in d:\\anaconda\\envs\\ml\\lib\\site-packages (from ipython>=5.3.0->pyvis) (0.1.6)\n",
            "Requirement already satisfied: pickleshare in d:\\anaconda\\envs\\ml\\lib\\site-packages (from ipython>=5.3.0->pyvis) (0.7.5)\n",
            "Requirement already satisfied: prompt-toolkit!=3.0.37,<3.1.0,>=3.0.30 in d:\\anaconda\\envs\\ml\\lib\\site-packages (from ipython>=5.3.0->pyvis) (3.0.43)\n",
            "Requirement already satisfied: pygments>=2.4.0 in d:\\anaconda\\envs\\ml\\lib\\site-packages (from ipython>=5.3.0->pyvis) (2.15.1)\n",
            "Requirement already satisfied: stack-data in d:\\anaconda\\envs\\ml\\lib\\site-packages (from ipython>=5.3.0->pyvis) (0.2.0)\n",
            "Requirement already satisfied: traitlets>=5 in d:\\anaconda\\envs\\ml\\lib\\site-packages (from ipython>=5.3.0->pyvis) (5.14.3)\n",
            "Requirement already satisfied: typing-extensions in d:\\anaconda\\envs\\ml\\lib\\site-packages (from ipython>=5.3.0->pyvis) (4.11.0)\n",
            "Requirement already satisfied: exceptiongroup in d:\\anaconda\\envs\\ml\\lib\\site-packages (from ipython>=5.3.0->pyvis) (1.2.0)\n",
            "Requirement already satisfied: colorama in d:\\anaconda\\envs\\ml\\lib\\site-packages (from ipython>=5.3.0->pyvis) (0.4.6)\n",
            "Requirement already satisfied: MarkupSafe>=2.0 in d:\\anaconda\\envs\\ml\\lib\\site-packages (from jinja2>=2.9.6->pyvis) (2.1.3)\n",
            "Requirement already satisfied: parso<0.9.0,>=0.8.3 in d:\\anaconda\\envs\\ml\\lib\\site-packages (from jedi>=0.16->ipython>=5.3.0->pyvis) (0.8.3)\n",
            "Requirement already satisfied: wcwidth in d:\\anaconda\\envs\\ml\\lib\\site-packages (from prompt-toolkit!=3.0.37,<3.1.0,>=3.0.30->ipython>=5.3.0->pyvis) (0.2.5)\n",
            "Requirement already satisfied: executing in d:\\anaconda\\envs\\ml\\lib\\site-packages (from stack-data->ipython>=5.3.0->pyvis) (0.8.3)\n",
            "Requirement already satisfied: asttokens in d:\\anaconda\\envs\\ml\\lib\\site-packages (from stack-data->ipython>=5.3.0->pyvis) (2.0.5)\n",
            "Requirement already satisfied: pure-eval in d:\\anaconda\\envs\\ml\\lib\\site-packages (from stack-data->ipython>=5.3.0->pyvis) (0.2.2)\n",
            "Requirement already satisfied: six in d:\\anaconda\\envs\\ml\\lib\\site-packages (from asttokens->stack-data->ipython>=5.3.0->pyvis) (1.16.0)\n",
            "Collecting branca\n",
            "  Downloading branca-0.8.1-py3-none-any.whl.metadata (1.5 kB)\n",
            "Requirement already satisfied: jinja2>=3 in d:\\anaconda\\envs\\ml\\lib\\site-packages (from branca) (3.1.4)\n",
            "Requirement already satisfied: MarkupSafe>=2.0 in d:\\anaconda\\envs\\ml\\lib\\site-packages (from jinja2>=3->branca) (2.1.3)\n",
            "Downloading branca-0.8.1-py3-none-any.whl (26 kB)\n",
            "Installing collected packages: branca\n",
            "Successfully installed branca-0.8.1\n"
          ]
        }
      ],
      "source": [
        "!pip install umap-learn\n",
        "!pip install sentence-transformers\n",
        "!pip install pyvis\n",
        "!pip install branca"
      ]
    },
    {
      "cell_type": "markdown",
      "metadata": {
        "id": "GWU8thTgtDwK"
      },
      "source": [
        "## Imports"
      ]
    },
    {
      "cell_type": "code",
      "execution_count": 7,
      "metadata": {
        "id": "iqovyEuCkmEk"
      },
      "outputs": [],
      "source": [
        "import csv\n",
        "import umap\n",
        "from scipy import spatial\n",
        "from sklearn.preprocessing import StandardScaler\n",
        "from sentence_transformers import SentenceTransformer\n",
        "import matplotlib.pyplot as plt\n",
        "from collections import defaultdict\n",
        "import pyvis\n",
        "from pyvis.network import Network\n",
        "import numpy as np\n",
        "import seaborn as sns\n",
        "import branca.colormap as cm\n",
        "import branca\n",
        "import pandas as pd\n",
        "import re\n",
        "from textwrap import wrap\n",
        "import json\n",
        "\n",
        "project_path = './'"
      ]
    },
    {
      "cell_type": "markdown",
      "metadata": {
        "id": "B6j9HEUktPbU"
      },
      "source": [
        "# Visualization Creation Process"
      ]
    },
    {
      "cell_type": "markdown",
      "metadata": {
        "id": "5Fu_9ijYFeR8"
      },
      "source": [
        "## Create Embeddings from Raw Data"
      ]
    },
    {
      "cell_type": "code",
      "execution_count": 8,
      "metadata": {
        "id": "A20046f5kvzd"
      },
      "outputs": [
        {
          "name": "stderr",
          "output_type": "stream",
          "text": [
            "d:\\anaconda\\envs\\ml\\lib\\site-packages\\huggingface_hub\\file_download.py:140: UserWarning: `huggingface_hub` cache-system uses symlinks by default to efficiently store duplicated files but your machine does not support them in C:\\Users\\Pengyao Zhao\\.cache\\huggingface\\hub\\models--sentence-transformers--all-MiniLM-L6-v2. Caching files will still work but in a degraded version that might require more space on your disk. This warning can be disabled by setting the `HF_HUB_DISABLE_SYMLINKS_WARNING` environment variable. For more details, see https://huggingface.co/docs/huggingface_hub/how-to-cache#limitations.\n",
            "To support symlinks on Windows, you either need to activate Developer Mode or to run Python as an administrator. In order to activate developer mode, see this article: https://docs.microsoft.com/en-us/windows/apps/get-started/enable-your-device-for-development\n",
            "  warnings.warn(message)\n"
          ]
        }
      ],
      "source": [
        "# Read attendees and their responses from a CSV file, replace attendees.csv with own link or file name\n",
        "attendees_map = {}\n",
        "with open(project_path+ 'MCDA5511-classmates - 2025.csv', newline='') as csvfile:\n",
        "    attendees = csv.reader(csvfile, delimiter=',', quotechar='\"')\n",
        "    next(attendees)  # Skip the header row\n",
        "    for row in attendees:\n",
        "        name, paragraph = row\n",
        "        attendees_map[paragraph] = name\n",
        "\n",
        "# Generate sentence embeddings\n",
        "model = SentenceTransformer('sentence-transformers/all-MiniLM-L6-v2')\n",
        "paragraphs = list(attendees_map.keys())\n",
        "embeddings = model.encode(paragraphs)\n",
        "\n",
        "# Create a dictionary to store embeddings for each person\n",
        "person_embeddings = {attendees_map[paragraph]: embedding for paragraph, embedding in zip(paragraphs, embeddings)}\n"
      ]
    },
    {
      "cell_type": "markdown",
      "metadata": {
        "id": "yhQYxCZ-Fkmp"
      },
      "source": [
        "## Reducing dimensionality of embedding data, scaling to coordinate domain/range\n"
      ]
    },
    {
      "cell_type": "code",
      "execution_count": null,
      "metadata": {
        "id": "PLufwJPWkoWp"
      },
      "outputs": [],
      "source": [
        "# Reducing dimensionality of embedding data, scaling to coordinate domain/range\n",
        "reducer = umap.UMAP(random_state=42) # set the seed to 42\n",
        "scaler = StandardScaler()\n",
        "scaled_data = scaler.fit_transform(list(person_embeddings.values()))\n",
        "reduced_data = reducer.fit_transform(scaled_data)\n"
      ]
    },
    {
      "cell_type": "markdown",
      "metadata": {
        "id": "oD5e7ge2Fn3e"
      },
      "source": [
        "## Create Visualization Image"
      ]
    },
    {
      "cell_type": "code",
      "execution_count": null,
      "metadata": {
        "id": "aFhtKXwvktLO"
      },
      "outputs": [
        {
          "data": {
            "image/png": "[encoded data removed]",
            "text/plain": [
              "<Figure size 640x480 with 1 Axes>"
            ]
          },
          "metadata": {},
          "output_type": "display_data"
        }
      ],
      "source": [
        "# Creating lists of coordinates with accompanying labels\n",
        "x = [row[0] for row in reduced_data]\n",
        "y = [row[1] for row in reduced_data]\n",
        "label = list(person_embeddings.keys())\n",
        "\n",
        "# Plotting and annotating data points\n",
        "plt.scatter(x,y)\n",
        "for i, name in enumerate(label):\n",
        "    plt.annotate(name, (x[i], y[i]), fontsize=\"8\")\n",
        "\n",
        "# Clean-up and Export\n",
        "plt.axis('off')\n",
        "plt.savefig(project_path+'visualization.png', dpi=800)"
      ]
    },
    {
      "cell_type": "markdown",
      "metadata": {
        "id": "RDfz17paFvR3"
      },
      "source": [
        "## Find the  top N matches to a node"
      ]
    },
    {
      "cell_type": "code",
      "execution_count": 17,
      "metadata": {
        "id": "DkzlqdbFrVCt"
      },
      "outputs": [],
      "source": [
        "# Providing top matches\n",
        "top_matches = {}\n",
        "all_personal_pairs = defaultdict(list)\n",
        "for person in attendees_map.values():\n",
        "    for person1 in attendees_map.values():\n",
        "        all_personal_pairs[person].append([spatial.distance.cosine(person_embeddings[person1], person_embeddings[person]), person1])\n",
        "\n",
        "n = 5\n",
        "# Collect the top n most similarity nodes\n",
        "data_day_list = []\n",
        "for person in attendees_map.values():\n",
        "    top_matches[person] = sorted(all_personal_pairs[person], key=lambda x: x[0])[1:n+1] # drop yourself, take top 5\n",
        "    a = sorted(all_personal_pairs[person], key=lambda x: x[0])[1:n+1]\n",
        "    mini_df = pd.DataFrame(a, columns=['Weight', 'Target'])\n",
        "    mini_df['Source'] = person\n",
        "    data_day_list.append(mini_df)\n",
        "\n",
        "# output this information as a json\n",
        "with open(project_path + 'b_top5_matches.json', 'w') as json_file:\n",
        "    json.dump(top_matches, json_file)\n",
        "\n",
        "# Output this information as a csv\n",
        "df = pd.concat(data_day_list)\n",
        "df.to_csv(project_path + 'b_top5_matches.csv')\n"
      ]
    },
    {
      "cell_type": "markdown",
      "metadata": {
        "id": "-GMH_-ioGB-T"
      },
      "source": [
        "## Add Colour/Paragraph Information to Dataframe"
      ]
    },
    {
      "cell_type": "code",
      "execution_count": 12,
      "metadata": {
        "id": "f423QJS90vPj"
      },
      "outputs": [
        {
          "name": "stdout",
          "output_type": "stream",
          "text": [
            "      Weight Colour_Source          Source Colour_Target  \\\n",
            "0   0.464883       #a1c9f4  Greg Kirczenow       #8de5a1   \n",
            "1   0.619713       #a1c9f4  Greg Kirczenow       #ffb482   \n",
            "2   0.647434       #a1c9f4  Greg Kirczenow       #debb9b   \n",
            "3   0.676570       #a1c9f4  Greg Kirczenow       #d0bbff   \n",
            "4   0.677993       #a1c9f4  Greg Kirczenow       #ff9f9b   \n",
            "..       ...           ...             ...           ...   \n",
            "90  0.407616       #fffea3   Sriram Ramesh       #8de5a1   \n",
            "91  0.417010       #fffea3   Sriram Ramesh       #ff9f9b   \n",
            "92  0.427954       #fffea3   Sriram Ramesh       #debb9b   \n",
            "93  0.428615       #fffea3   Sriram Ramesh       #b9f2f0   \n",
            "94  0.433370       #fffea3   Sriram Ramesh       #ffb482   \n",
            "\n",
            "                         Target  \n",
            "0                 Pawan Lingras  \n",
            "1             Nikita Neveditsin  \n",
            "2                   Ethan Cooke  \n",
            "3                   Louise Fear  \n",
            "4                      SicongFu  \n",
            "..                          ...  \n",
            "90       Mohammed Abdul Thoufiq  \n",
            "91                 Somto Muotoe  \n",
            "92                  Ethan Cooke  \n",
            "93  Sai Vishnu Teja Reddy Pulim  \n",
            "94          Karthikeya Kanumuri  \n",
            "\n",
            "[95 rows x 5 columns]\n",
            "      Weight Colour_Source Colour_Target                       Target  \\\n",
            "0   0.464883       #a1c9f4       #8de5a1                Pawan Lingras   \n",
            "1   0.619713       #a1c9f4       #ffb482            Nikita Neveditsin   \n",
            "2   0.647434       #a1c9f4       #debb9b                  Ethan Cooke   \n",
            "3   0.676570       #a1c9f4       #d0bbff                  Louise Fear   \n",
            "4   0.677993       #a1c9f4       #ff9f9b                     SicongFu   \n",
            "..       ...           ...           ...                          ...   \n",
            "90  0.407616       #fffea3       #8de5a1       Mohammed Abdul Thoufiq   \n",
            "91  0.417010       #fffea3       #ff9f9b                 Somto Muotoe   \n",
            "92  0.427954       #fffea3       #debb9b                  Ethan Cooke   \n",
            "93  0.428615       #fffea3       #b9f2f0  Sai Vishnu Teja Reddy Pulim   \n",
            "94  0.433370       #fffea3       #ffb482          Karthikeya Kanumuri   \n",
            "\n",
            "                                           Paragraphs          Source  \n",
            "0                                     Swim, bike, run  Greg Kirczenow  \n",
            "1                                     Swim, bike, run  Greg Kirczenow  \n",
            "2                                     Swim, bike, run  Greg Kirczenow  \n",
            "3                                     Swim, bike, run  Greg Kirczenow  \n",
            "4                                     Swim, bike, run  Greg Kirczenow  \n",
            "..                                                ...             ...  \n",
            "90  I like Competitive coding, playing soccer, pin...   Sriram Ramesh  \n",
            "91  I like Competitive coding, playing soccer, pin...   Sriram Ramesh  \n",
            "92  I like Competitive coding, playing soccer, pin...   Sriram Ramesh  \n",
            "93  I like Competitive coding, playing soccer, pin...   Sriram Ramesh  \n",
            "94  I like Competitive coding, playing soccer, pin...   Sriram Ramesh  \n",
            "\n",
            "[95 rows x 6 columns]\n"
          ]
        }
      ],
      "source": [
        "# Get the colour pallette\n",
        "colour = sns.color_palette(\"pastel\",len(x)).as_hex()\n",
        "\n",
        "# Add colour pallette to the df\n",
        "df1 = pd.DataFrame([label,colour])\n",
        "df1 = df1.T\n",
        "df1.rename(columns={0: 'Source', 1: 'Colour'},inplace=True)\n",
        "df = df.set_index('Source').join(df1.set_index('Source'))\n",
        "df['Source'] = df.index\n",
        "df = df.reset_index(drop=True)\n",
        "\n",
        "# Add colour pallette for both the df Target and Source:\n",
        "df1.rename(columns={'Source': 'Target'},inplace=True)\n",
        "df = df.set_index('Target').join(df1.set_index('Target'),lsuffix='_Source', rsuffix='_Target')\n",
        "df['Target'] = df.index\n",
        "df = df.reset_index(drop=True)\n",
        "print(df)\n",
        "\n",
        "# Add paragraphs to the df\n",
        "df2 = pd.DataFrame([label,paragraphs])\n",
        "df2 = df2.T\n",
        "df2.rename(columns={0: 'Source', 1: 'Paragraphs'},inplace=True)\n",
        "df = df.set_index('Source').join(df2.set_index('Source'))\n",
        "df['Source'] = df.index\n",
        "df = df.reset_index(drop=True)\n",
        "print(df)\n",
        "\n",
        "# Create a cleaned Dataframe of just the Source and and Paragraph information\n",
        "df_new = df[[\"Source\",\"Paragraphs\"]]\n",
        "df_new = df_new.drop_duplicates()\n",
        "df_new.set_index('Source', inplace=True)"
      ]
    },
    {
      "cell_type": "markdown",
      "metadata": {
        "id": "_hIev_UiGLei"
      },
      "source": [
        "## Build Interative Network Visualization (Simple)"
      ]
    },
    {
      "cell_type": "code",
      "execution_count": 13,
      "metadata": {
        "id": "4uNRCq8srzXg"
      },
      "outputs": [
        {
          "name": "stdout",
          "output_type": "stream",
          "text": [
            "./c_simple_viz.html\n"
          ]
        }
      ],
      "source": [
        "# Intitalize bucket size and colour palettes\n",
        "buckets = [100] * len(x)\n",
        "colour = sns.color_palette(\"pastel\",len(x)).as_hex()\n",
        "\n",
        "# Initialize network\n",
        "g = Network(height=\"750px\", width=\"100%\", bgcolor=\"#222222\", font_color=\"white\")\n",
        "\n",
        "# Add unconnected nodes to the network\n",
        "g.add_nodes(list(range(1,len(x)+1)), value=buckets,\n",
        "                         title=paragraphs,\n",
        "                         x=np.array(x).astype(np.float64),\n",
        "                         y=np.array(y).astype(np.float64),\n",
        "                         label=label,\n",
        "                         color=colour)\n",
        "\n",
        "# Output the visualization\n",
        "g.toggle_physics(True)\n",
        "g.show(project_path+'c_simple_viz.html', notebook=False)"
      ]
    },
    {
      "cell_type": "markdown",
      "metadata": {
        "id": "k25-lsF-GQMP"
      },
      "source": [
        "## Build Interative Network Visualization (Complex)\n"
      ]
    },
    {
      "cell_type": "code",
      "execution_count": 14,
      "metadata": {
        "id": "gN4tOTrjyjGT"
      },
      "outputs": [
        {
          "name": "stdout",
          "output_type": "stream",
          "text": [
            "./c_complex_viz.html\n"
          ]
        }
      ],
      "source": [
        "# Initialize network\n",
        "got_net = Network(height=\"750px\", width=\"100%\", bgcolor=\"#222222\", font_color=\"white\",select_menu=True,cdn_resources='remote')\n",
        "\n",
        "# Create a dictionary of Important information\n",
        "sources = df['Source']\n",
        "targets = df['Target']\n",
        "weights = df['Weight']\n",
        "color_targets = df['Colour_Target']\n",
        "color_sources = df['Colour_Source']\n",
        "\n",
        "edge_data = zip(sources, targets, weights,color_targets,color_sources)\n",
        "\n",
        "# Add nodes and edges to the network\n",
        "for e in edge_data:\n",
        "                src = e[0]\n",
        "                dst = e[1]\n",
        "                w = e[2]\n",
        "                c_t= e[3]\n",
        "                c_s= e[4]\n",
        "                got_net.add_node(src, src, title=src,color=c_s)\n",
        "                got_net.add_node(dst, dst, title=dst)\n",
        "                got_net.add_edge(src, dst, value=w)#,color = \"#c79910\") # if you  want a solide colour for edges\n",
        "\n",
        "# Add paragraphs to the popup\n",
        "for i,node in enumerate(got_net.nodes):\n",
        "               content =df_new.loc[node.get(\"title\"),\"Paragraphs\"]\n",
        "               node[\"title\"] += \": \"+ \"\\n \\n\" +'\\n'.join(wrap(content, width=50))\n",
        "\n",
        "## Output the visualization\n",
        "got_net.show(project_path+'c_complex_viz.html', notebook=False)"
      ]
    }
  ],
  "metadata": {
    "colab": {
      "collapsed_sections": [
        "vU3vDD5NnHbe",
        "B6j9HEUktPbU"
      ],
      "provenance": []
    },
    "kernelspec": {
      "display_name": "ml",
      "language": "python",
      "name": "python3"
    },
    "language_info": {
      "codemirror_mode": {
        "name": "ipython",
        "version": 3
      },
      "file_extension": ".py",
      "mimetype": "text/x-python",
      "name": "python",
      "nbconvert_exporter": "python",
      "pygments_lexer": "ipython3",
      "version": "3.9.20"
    }
  },
  "nbformat": 4,
  "nbformat_minor": 0
}
